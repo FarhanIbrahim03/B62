{
 "cells": [
  {
   "cell_type": "code",
   "execution_count": null,
   "id": "84098bdd",
   "metadata": {},
   "outputs": [],
   "source": [
    "# req : i need full name "
   ]
  },
  {
   "cell_type": "code",
   "execution_count": 1,
   "id": "403087df",
   "metadata": {},
   "outputs": [
    {
     "name": "stdout",
     "output_type": "stream",
     "text": [
      "arshath farwyz\n"
     ]
    }
   ],
   "source": [
    "full_name = 'arshath farwyz'\n",
    "print(full_name)"
   ]
  },
  {
   "cell_type": "code",
   "execution_count": 3,
   "id": "42519afa",
   "metadata": {},
   "outputs": [
    {
     "name": "stdout",
     "output_type": "stream",
     "text": [
      "Arshath Farwyz\n"
     ]
    }
   ],
   "source": [
    "print(full_name.title())"
   ]
  },
  {
   "cell_type": "code",
   "execution_count": null,
   "id": "eda32f9e",
   "metadata": {},
   "outputs": [],
   "source": [
    "# full name in caps"
   ]
  },
  {
   "cell_type": "code",
   "execution_count": 4,
   "id": "731720b5",
   "metadata": {},
   "outputs": [
    {
     "name": "stdout",
     "output_type": "stream",
     "text": [
      "ARSHATH FARWYZ\n"
     ]
    }
   ],
   "source": [
    "print(full_name.upper())"
   ]
  },
  {
   "cell_type": "code",
   "execution_count": null,
   "id": "3768cd9c",
   "metadata": {},
   "outputs": [],
   "source": [
    "#full name in lower case"
   ]
  },
  {
   "cell_type": "code",
   "execution_count": 7,
   "id": "76002f65",
   "metadata": {},
   "outputs": [
    {
     "name": "stdout",
     "output_type": "stream",
     "text": [
      "arshath farwyz\n"
     ]
    }
   ],
   "source": [
    "print(full_name.lower())"
   ]
  },
  {
   "cell_type": "code",
   "execution_count": null,
   "id": "29168ccd",
   "metadata": {},
   "outputs": [],
   "source": [
    "f strings"
   ]
  },
  {
   "cell_type": "code",
   "execution_count": 12,
   "id": "e4002ca3",
   "metadata": {},
   "outputs": [],
   "source": [
    "first_name = 'arshath'\n",
    "last_name = 'farwyz'"
   ]
  },
  {
   "cell_type": "code",
   "execution_count": 14,
   "id": "43b446eb",
   "metadata": {},
   "outputs": [
    {
     "name": "stdout",
     "output_type": "stream",
     "text": [
      "arshath farwyz\n"
     ]
    }
   ],
   "source": [
    "full_name = f\"{first_name} {last_name}\"\n",
    "\n",
    "print(full_name)"
   ]
  },
  {
   "cell_type": "code",
   "execution_count": 15,
   "id": "525015dc",
   "metadata": {},
   "outputs": [
    {
     "name": "stdout",
     "output_type": "stream",
     "text": [
      "nice work, arshath farwyz\n"
     ]
    }
   ],
   "source": [
    "message = f\"nice work, {full_name}\"\n",
    "print(message)"
   ]
  },
  {
   "cell_type": "code",
   "execution_count": 20,
   "id": "601b9778",
   "metadata": {},
   "outputs": [
    {
     "name": "stdout",
     "output_type": "stream",
     "text": [
      "nice work, Arshath Farwyz\n"
     ]
    }
   ],
   "source": [
    "message = f\"nice work, {full_name.title()}\"\n",
    "print(message)"
   ]
  },
  {
   "cell_type": "code",
   "execution_count": null,
   "id": "6c1bc6e3",
   "metadata": {},
   "outputs": [],
   "source": []
  },
  {
   "cell_type": "code",
   "execution_count": null,
   "id": "be6ba417",
   "metadata": {},
   "outputs": [],
   "source": [
    "\\n ====> new line"
   ]
  },
  {
   "cell_type": "code",
   "execution_count": 26,
   "id": "d83447a1",
   "metadata": {},
   "outputs": [
    {
     "name": "stdout",
     "output_type": "stream",
     "text": [
      "top_football_players_of_all_time:\n",
      "\tlionel messi\n",
      "\tcristiano ronaldo\n",
      "\tneymar jr\n",
      "\tdiego maradona\n"
     ]
    }
   ],
   "source": [
    "print(\"top_football_players_of_all_time:\\n\\tlionel messi\\n\\tcristiano ronaldo\\n\\tneymar jr\\n\\tdiego maradona\")"
   ]
  },
  {
   "cell_type": "code",
   "execution_count": null,
   "id": "442f86c9",
   "metadata": {},
   "outputs": [],
   "source": []
  },
  {
   "cell_type": "code",
   "execution_count": null,
   "id": "f5a9c054",
   "metadata": {},
   "outputs": [],
   "source": [
    "removing whitespace from strings :"
   ]
  },
  {
   "cell_type": "code",
   "execution_count": 27,
   "id": "a2578ff6",
   "metadata": {},
   "outputs": [
    {
     "name": "stdout",
     "output_type": "stream",
     "text": [
      "Salam\n"
     ]
    }
   ],
   "source": [
    "name1 = 'Salam'\n",
    "print(name1)"
   ]
  },
  {
   "cell_type": "code",
   "execution_count": 28,
   "id": "1cdfc515",
   "metadata": {},
   "outputs": [
    {
     "name": "stdout",
     "output_type": "stream",
     "text": [
      "       Mafaz\n"
     ]
    }
   ],
   "source": [
    "name2 = '       Mafaz'\n",
    "print(name2)"
   ]
  },
  {
   "cell_type": "code",
   "execution_count": 30,
   "id": "4b38b66f",
   "metadata": {},
   "outputs": [
    {
     "name": "stdout",
     "output_type": "stream",
     "text": [
      "Ariffin      \n"
     ]
    }
   ],
   "source": [
    "name3 = 'Ariffin      '\n",
    "print(name3)"
   ]
  },
  {
   "cell_type": "code",
   "execution_count": null,
   "id": "499a9540",
   "metadata": {},
   "outputs": [],
   "source": []
  }
 ],
 "metadata": {
  "kernelspec": {
   "display_name": "Python 3 (ipykernel)",
   "language": "python",
   "name": "python3"
  },
  "language_info": {
   "codemirror_mode": {
    "name": "ipython",
    "version": 3
   },
   "file_extension": ".py",
   "mimetype": "text/x-python",
   "name": "python",
   "nbconvert_exporter": "python",
   "pygments_lexer": "ipython3",
   "version": "3.9.12"
  }
 },
 "nbformat": 4,
 "nbformat_minor": 5
}

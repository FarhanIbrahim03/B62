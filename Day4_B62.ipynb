{
 "cells": [
  {
   "cell_type": "code",
   "execution_count": null,
   "id": "924bd490",
   "metadata": {},
   "outputs": [],
   "source": [
    "# List "
   ]
  },
  {
   "cell_type": "code",
   "execution_count": 3,
   "id": "0da409e1",
   "metadata": {},
   "outputs": [
    {
     "name": "stdout",
     "output_type": "stream",
     "text": [
      "['Shaik', 'Arshath', 'Salaam', 'Mafaz', 'Farhan', 'Thariq']\n"
     ]
    }
   ],
   "source": [
    "students = ['Shaik','Arshath','Salaam','Mafaz','Farhan','Thariq']\n",
    "print(students)"
   ]
  },
  {
   "cell_type": "code",
   "execution_count": 4,
   "id": "4b1f2322",
   "metadata": {},
   "outputs": [
    {
     "data": {
      "text/plain": [
       "list"
      ]
     },
     "execution_count": 4,
     "metadata": {},
     "output_type": "execute_result"
    }
   ],
   "source": [
    "type (students)"
   ]
  },
  {
   "cell_type": "code",
   "execution_count": null,
   "id": "e5cc1646",
   "metadata": {},
   "outputs": [],
   "source": [
    "# Indexing"
   ]
  },
  {
   "cell_type": "code",
   "execution_count": 6,
   "id": "87035270",
   "metadata": {},
   "outputs": [
    {
     "name": "stdout",
     "output_type": "stream",
     "text": [
      "Thariq\n"
     ]
    }
   ],
   "source": [
    "print(students[5])"
   ]
  },
  {
   "cell_type": "code",
   "execution_count": null,
   "id": "546eb35e",
   "metadata": {},
   "outputs": [],
   "source": [
    "# add to a list"
   ]
  },
  {
   "cell_type": "code",
   "execution_count": 7,
   "id": "c9c73ef6",
   "metadata": {},
   "outputs": [
    {
     "name": "stdout",
     "output_type": "stream",
     "text": [
      "['Shaik', 'Arshath', 'Salaam', 'Mafaz', 'Farhan', 'Thariq', 'Harshu']\n"
     ]
    }
   ],
   "source": [
    "students.append('Harshu')\n",
    "print(students)"
   ]
  },
  {
   "cell_type": "code",
   "execution_count": null,
   "id": "1786bc38",
   "metadata": {},
   "outputs": [],
   "source": [
    "# Insert"
   ]
  },
  {
   "cell_type": "code",
   "execution_count": 8,
   "id": "007dea4b",
   "metadata": {},
   "outputs": [
    {
     "name": "stdout",
     "output_type": "stream",
     "text": [
      "['Shaik', 'Arshath', 'Salaam', 'Prabhu', 'Mafaz', 'Farhan', 'Thariq', 'Harshu']\n"
     ]
    }
   ],
   "source": [
    "students.insert(3,'Prabhu')\n",
    "print(students)"
   ]
  },
  {
   "cell_type": "code",
   "execution_count": null,
   "id": "2b1c5cd8",
   "metadata": {},
   "outputs": [],
   "source": [
    "# modify"
   ]
  },
  {
   "cell_type": "code",
   "execution_count": 13,
   "id": "d63a4634",
   "metadata": {},
   "outputs": [
    {
     "name": "stdout",
     "output_type": "stream",
     "text": [
      "['Shaik', 'Arshath', 'Adel', 'Prabhu', 'Mafaz', 'Farhan', 'Thariq', 'Harshu']\n"
     ]
    }
   ],
   "source": [
    "students [2] = 'Adel'\n",
    "print(students)"
   ]
  }
 ],
 "metadata": {
  "kernelspec": {
   "display_name": "Python 3 (ipykernel)",
   "language": "python",
   "name": "python3"
  },
  "language_info": {
   "codemirror_mode": {
    "name": "ipython",
    "version": 3
   },
   "file_extension": ".py",
   "mimetype": "text/x-python",
   "name": "python",
   "nbconvert_exporter": "python",
   "pygments_lexer": "ipython3",
   "version": "3.9.12"
  }
 },
 "nbformat": 4,
 "nbformat_minor": 5
}
